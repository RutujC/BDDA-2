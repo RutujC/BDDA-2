{
  "nbformat": 4,
  "nbformat_minor": 0,
  "metadata": {
    "colab": {
      "name": "Loan default prediction.ipynb",
      "provenance": [],
      "collapsed_sections": []
    },
    "kernelspec": {
      "name": "python3",
      "display_name": "Python 3"
    },
    "language_info": {
      "name": "python"
    }
  },
  "cells": [
    {
      "cell_type": "code",
      "metadata": {
        "id": "0LwJclvoYzBp"
      },
      "source": [
        "import numpy as np\n",
        "import pandas as pd"
      ],
      "execution_count": 1,
      "outputs": []
    },
    {
      "cell_type": "code",
      "metadata": {
        "id": "c8Q-oWFfT-IZ",
        "colab": {
          "base_uri": "https://localhost:8080/"
        },
        "outputId": "6c6a93c8-9e1a-43b8-9898-bf9214dc7bff"
      },
      "source": [
        "from google.colab import drive\n",
        "drive.mount('/content/drive')"
      ],
      "execution_count": 2,
      "outputs": [
        {
          "output_type": "stream",
          "text": [
            "Mounted at /content/drive\n"
          ],
          "name": "stdout"
        }
      ]
    },
    {
      "cell_type": "code",
      "metadata": {
        "id": "3iT_jwJFtqPB",
        "colab": {
          "base_uri": "https://localhost:8080/"
        },
        "outputId": "4dc88893-9703-475e-e53e-b4b1d3bb81c6"
      },
      "source": [
        "df_train = pd.read_csv(\"/content/drive/MyDrive/Google Colab/BDDA data set mid term/train_v2.csv/train_v2.csv\")\n",
        "df_test = pd.read_csv(\"/content/drive/MyDrive/Google Colab/BDDA data set mid term/test_v2.csv/test_v2.csv\")"
      ],
      "execution_count": 3,
      "outputs": [
        {
          "output_type": "stream",
          "text": [
            "/usr/local/lib/python3.7/dist-packages/IPython/core/interactiveshell.py:2718: DtypeWarning: Columns (135,204,274,417) have mixed types.Specify dtype option on import or set low_memory=False.\n",
            "  interactivity=interactivity, compiler=compiler, result=result)\n",
            "/usr/local/lib/python3.7/dist-packages/IPython/core/interactiveshell.py:2718: DtypeWarning: Columns (417) have mixed types.Specify dtype option on import or set low_memory=False.\n",
            "  interactivity=interactivity, compiler=compiler, result=result)\n"
          ],
          "name": "stderr"
        }
      ]
    },
    {
      "cell_type": "code",
      "metadata": {
        "id": "mpP7JnQntqFi",
        "colab": {
          "base_uri": "https://localhost:8080/"
        },
        "outputId": "e427e0a3-1acb-42eb-950d-8fae42944f19"
      },
      "source": [
        "df_train.shape"
      ],
      "execution_count": 4,
      "outputs": [
        {
          "output_type": "execute_result",
          "data": {
            "text/plain": [
              "(105471, 771)"
            ]
          },
          "metadata": {},
          "execution_count": 4
        }
      ]
    },
    {
      "cell_type": "code",
      "metadata": {
        "id": "Itr9Mw8CtqBY",
        "colab": {
          "base_uri": "https://localhost:8080/"
        },
        "outputId": "cd70ad19-37a6-4a3c-a767-d5de4186a39e"
      },
      "source": [
        "df_train.info()"
      ],
      "execution_count": 5,
      "outputs": [
        {
          "output_type": "stream",
          "text": [
            "<class 'pandas.core.frame.DataFrame'>\n",
            "RangeIndex: 105471 entries, 0 to 105470\n",
            "Columns: 771 entries, id to loss\n",
            "dtypes: float64(653), int64(99), object(19)\n",
            "memory usage: 620.4+ MB\n"
          ],
          "name": "stdout"
        }
      ]
    },
    {
      "cell_type": "code",
      "metadata": {
        "id": "SU340oWJtp9U",
        "colab": {
          "base_uri": "https://localhost:8080/"
        },
        "outputId": "eeb87de3-abba-4b71-becf-2ddef9d92ef3"
      },
      "source": [
        "df_train.keys()"
      ],
      "execution_count": 6,
      "outputs": [
        {
          "output_type": "execute_result",
          "data": {
            "text/plain": [
              "Index(['id', 'f1', 'f2', 'f3', 'f4', 'f5', 'f6', 'f7', 'f8', 'f9',\n",
              "       ...\n",
              "       'f770', 'f771', 'f772', 'f773', 'f774', 'f775', 'f776', 'f777', 'f778',\n",
              "       'loss'],\n",
              "      dtype='object', length=771)"
            ]
          },
          "metadata": {},
          "execution_count": 6
        }
      ]
    },
    {
      "cell_type": "markdown",
      "metadata": {
        "id": "7mWPUVM4wk_F"
      },
      "source": [
        "**Data cleaning**"
      ]
    },
    {
      "cell_type": "code",
      "metadata": {
        "id": "1k8qm2Uotp5Y",
        "colab": {
          "base_uri": "https://localhost:8080/"
        },
        "outputId": "4401e276-b964-427d-b941-a96337c4b5a7"
      },
      "source": [
        "df_train.isnull().sum()"
      ],
      "execution_count": 7,
      "outputs": [
        {
          "output_type": "execute_result",
          "data": {
            "text/plain": [
              "id         0\n",
              "f1         0\n",
              "f2         0\n",
              "f3         0\n",
              "f4         0\n",
              "        ... \n",
              "f775    1525\n",
              "f776       0\n",
              "f777       0\n",
              "f778       0\n",
              "loss       0\n",
              "Length: 771, dtype: int64"
            ]
          },
          "metadata": {},
          "execution_count": 7
        }
      ]
    },
    {
      "cell_type": "code",
      "metadata": {
        "id": "3obiO8f1tp0g"
      },
      "source": [
        "df_train.dropna(inplace=True)\n",
        "df_test.dropna(inplace=True)"
      ],
      "execution_count": 8,
      "outputs": []
    },
    {
      "cell_type": "code",
      "metadata": {
        "id": "KrF22YJctpxD",
        "colab": {
          "base_uri": "https://localhost:8080/"
        },
        "outputId": "46e4c5a0-fa1f-459d-ef99-817bb455a0f6"
      },
      "source": [
        "df_train.isnull().sum()"
      ],
      "execution_count": 9,
      "outputs": [
        {
          "output_type": "execute_result",
          "data": {
            "text/plain": [
              "id      0\n",
              "f1      0\n",
              "f2      0\n",
              "f3      0\n",
              "f4      0\n",
              "       ..\n",
              "f775    0\n",
              "f776    0\n",
              "f777    0\n",
              "f778    0\n",
              "loss    0\n",
              "Length: 771, dtype: int64"
            ]
          },
          "metadata": {},
          "execution_count": 9
        }
      ]
    },
    {
      "cell_type": "code",
      "metadata": {
        "id": "G2wTiAGJtpte",
        "colab": {
          "base_uri": "https://localhost:8080/"
        },
        "outputId": "ad178621-511c-472e-eb64-1c7aadf572f3"
      },
      "source": [
        "df_train.shape"
      ],
      "execution_count": 10,
      "outputs": [
        {
          "output_type": "execute_result",
          "data": {
            "text/plain": [
              "(51940, 771)"
            ]
          },
          "metadata": {},
          "execution_count": 10
        }
      ]
    },
    {
      "cell_type": "code",
      "metadata": {
        "id": "7QaxMH_OdG20"
      },
      "source": [
        "for i in df_train.select_dtypes(include=['object']).columns:\n",
        "    df_train.drop(labels=i, axis=1, inplace=True)\n",
        "for i in df_test.select_dtypes(include=['object']).columns:\n",
        "    df_test.drop(labels=i, axis=1, inplace=True)"
      ],
      "execution_count": 19,
      "outputs": []
    },
    {
      "cell_type": "code",
      "metadata": {
        "colab": {
          "base_uri": "https://localhost:8080/"
        },
        "id": "f8EJ099ddHgw",
        "outputId": "93bbe4d2-b570-4d6a-bfaf-9df07e08688a"
      },
      "source": [
        "df_train.shape"
      ],
      "execution_count": 20,
      "outputs": [
        {
          "output_type": "execute_result",
          "data": {
            "text/plain": [
              "(51940, 752)"
            ]
          },
          "metadata": {},
          "execution_count": 20
        }
      ]
    },
    {
      "cell_type": "code",
      "metadata": {
        "id": "tZnJU8W8wJED"
      },
      "source": [
        "X = df_train.iloc[:,1:751]\n",
        "y = df_train.iloc[:,751]"
      ],
      "execution_count": 21,
      "outputs": []
    },
    {
      "cell_type": "markdown",
      "metadata": {
        "id": "KYHoVRGexDaB"
      },
      "source": [
        "**Splitting data in taining set and testing set**"
      ]
    },
    {
      "cell_type": "code",
      "metadata": {
        "id": "SJ-K65-dwRzt"
      },
      "source": [
        "from sklearn.model_selection import train_test_split"
      ],
      "execution_count": 22,
      "outputs": []
    },
    {
      "cell_type": "code",
      "metadata": {
        "id": "YB3wYm-tYhYM"
      },
      "source": [
        "dfd = df_train.sample(n=50000, random_state=1)"
      ],
      "execution_count": 23,
      "outputs": []
    },
    {
      "cell_type": "code",
      "metadata": {
        "id": "nS1sL0yaYhLg"
      },
      "source": [
        "X = dfd.drop('f1', axis=1)\n",
        "\n",
        "y = dfd. f1"
      ],
      "execution_count": 24,
      "outputs": []
    },
    {
      "cell_type": "code",
      "metadata": {
        "id": "uroNUSN-Ys_M"
      },
      "source": [
        "xl = X.copy()"
      ],
      "execution_count": 25,
      "outputs": []
    },
    {
      "cell_type": "code",
      "metadata": {
        "id": "eZT_H0QBYzUC"
      },
      "source": [
        "\n",
        "from sklearn.model_selection import train_test_split\n",
        "\n",
        "\n",
        "\n",
        "xl_train,xl_test,yl_train,yl_test = train_test_split(xl,y,test_size=0.3, random_state=1)"
      ],
      "execution_count": 26,
      "outputs": []
    },
    {
      "cell_type": "code",
      "metadata": {
        "id": "g6V07CaVY5MN"
      },
      "source": [
        "from sklearn.metrics import mean_squared_error\n",
        "\n",
        "from math import sqrt\n",
        "\n",
        "\n",
        "\n",
        "def rmse(x, y):\n",
        "\n",
        "    return sqrt(mean_squared_error(x, y))\n",
        "\n",
        "\n",
        "\n",
        "# definte MAPE function\n",
        "\n",
        "def mape(x, y): \n",
        "\n",
        "    return np.mean(np.abs((x - y) / x)) * 100 "
      ],
      "execution_count": 28,
      "outputs": []
    },
    {
      "cell_type": "markdown",
      "metadata": {
        "id": "ywtl8dGLwwxo"
      },
      "source": [
        "**Random Forest Algorithm**"
      ]
    },
    {
      "cell_type": "code",
      "metadata": {
        "id": "lRSZL7LlYSyz"
      },
      "source": [
        "from sklearn.ensemble import RandomForestRegressor\n",
        "\n",
        "rdf = RandomForestRegressor(n_estimators=30)\n",
        "\n",
        "rdfreg = rdf.fit(xl_train, yl_train)"
      ],
      "execution_count": 29,
      "outputs": []
    },
    {
      "cell_type": "code",
      "metadata": {
        "id": "bbAcHahuYSb3",
        "colab": {
          "base_uri": "https://localhost:8080/"
        },
        "outputId": "fdd5413c-6831-4137-a835-e3c935ca4610"
      },
      "source": [
        "print(\"Regresion Model Score\" , \":\" , rdfreg.score(xl_train, yl_train) , \",\" ,\n",
        "\n",
        "      \"Out of Sample Test Score\" ,\":\" , rdfreg.score(xl_test, yl_test))   \n",
        "\n",
        "\n",
        "\n",
        "yl_predicted = rdfreg.predict(xl_train)\n",
        "\n",
        "yl_test_predicted = rdfreg.predict(xl_test)\n",
        "\n",
        "\n",
        "\n",
        "print(\"Training RMSE\", \":\", rmse(yl_train, yl_predicted),\n",
        "\n",
        "      \"Testing RMSE\", \":\", rmse(yl_test, yl_test_predicted))\n",
        "\n",
        "print(\"Training MAPE\", \":\", mape(yl_train, yl_predicted),\n",
        "\n",
        "      \"Testing MAPE\", \":\", mape(yl_test, yl_test_predicted))"
      ],
      "execution_count": 30,
      "outputs": [
        {
          "output_type": "stream",
          "text": [
            "Regresion Model Score : 0.9999914879956451 , Out of Sample Test Score : 0.9999379725806643\n",
            "Training RMSE : 0.04155279678475178 Testing RMSE : 0.11251370286917615\n",
            "Training MAPE : 0.007166293104889589 Testing MAPE : 0.019293991365299783\n"
          ],
          "name": "stdout"
        }
      ]
    }
  ]
}